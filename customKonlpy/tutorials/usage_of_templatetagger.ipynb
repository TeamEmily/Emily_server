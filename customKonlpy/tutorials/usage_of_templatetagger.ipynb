{
 "cells": [
  {
   "cell_type": "markdown",
   "metadata": {},
   "source": [
    "KoNLPy의 [트위터 한국어 분석기][twitterlink] ([현 오픈 한국어 분석기][openlink])는 속도도 빠르고 다양한 사전도 확보하고 있는 한국어 분석기입니다. 하지만 컴파일이 되어 있는 형태로 KoNLPy에 들어가 있기 때문에 사용자 사전의 추가가 힘들고\\*, 내가 원하는 임의의 태그를 지정할 수 없습니다. \n",
    "\n",
    "customized_KoNLPy는 확실히 알고 있는 단어들에 대해서는 라이브러리를 거치지 않고 주어진 어절을 아는 단어들로 토크나이징 / 품사판별을 하는 기능을 제공합니다. 이를 위해 template 기반 토크나이징을 수행합니다. \n",
    "\n",
    "    사전: {'아이오아이': 'Noun', '는': 'Josa'}\n",
    "    탬플릿: Noun + Josa\n",
    "    \n",
    "위와 같은 단어 리스트와 탬플릿이 있다면 '아이오아이는' 이라는 어절은 [('아이오아이', 'Noun'), ('는', 'Josa')]로 분리됩니다. \n",
    "\n",
    "\\* Scala 코드를 이용할 경우에는 사용자 사전의 추가가 매우 쉽습니다 [참고][openlink]\n",
    "\n",
    "[twitterlink]: https://github.com/twitter/twitter-korean-text\n",
    "[openlink]: https://github.com/open-korean-text/open-korean-text"
   ]
  },
  {
   "cell_type": "markdown",
   "metadata": {},
   "source": [
    "KoNLPy의 버전은 0.4.4 기준입니다. KoNLPy의 Twitter를 이용하여 '우리아이오아이는 정말 이뻐요'라는 문장을 처리하면 '아이오' + '아이'로 명사가 잘못 인식됩니다. 트와이스의 'tt' 역시 명사보다는 영어로 인식됩니다. 한국어 분석기 이지만, tt는 명사로 미리 분류하고 싶습니다. "
   ]
  },
  {
   "cell_type": "code",
   "execution_count": 18,
   "metadata": {
    "collapsed": false
   },
   "outputs": [
    {
     "data": {
      "text/plain": [
       "'0.4.4'"
      ]
     },
     "execution_count": 18,
     "metadata": {},
     "output_type": "execute_result"
    }
   ],
   "source": [
    "import konlpy\n",
    "konlpy.__version__"
   ]
  },
  {
   "cell_type": "code",
   "execution_count": 1,
   "metadata": {
    "collapsed": false
   },
   "outputs": [
    {
     "name": "stdout",
     "output_type": "stream",
     "text": [
      "[('우리', 'Noun'), ('아이오', 'Noun'), ('아이', 'Noun'), ('는', 'Josa'), ('정말', 'Noun'), ('이뻐', 'Adjective'), ('요', 'Eomi')] \n",
      "\n",
      "[('트', 'Noun'), ('둥이', 'Noun'), ('꺼', 'Suffix'), ('tt', 'Alpha'), ('도', 'Noun'), ('좋', 'Adjective'), ('아요', 'Eomi')]\n"
     ]
    }
   ],
   "source": [
    "from konlpy.tag import Twitter as OriginalTwitter\n",
    "\n",
    "twitter_original = OriginalTwitter()\n",
    "print(twitter_original.pos('우리아이오아이는 정말 이뻐요'),'\\n')\n",
    "print(twitter_original.pos('트둥이꺼 tt도 좋아요'))"
   ]
  },
  {
   "cell_type": "markdown",
   "metadata": {},
   "source": [
    "customized_KoNLPy 에는 현재 트위터 한국어 분석기 만을 이용하는 wrapping class만 제공되고 있습니다. customized_KoNLPy의 Twitter는 본래 KoNLPy의 tag에 추가되는 함수가 있습니다. \n",
    "\n",
    "Twitter.add_dictionary(words, tag)는 사용자가 사전을 추가할 수 있는 부분입니다. 단어를 하나씩 추가할 수 있습니다. 추가한 뒤 Twitter의 숨김 변수인 \\_dictionary.\\_pos2words를 확인해보면 입력한 단어들을 볼 수 있습니다. "
   ]
  },
  {
   "cell_type": "markdown",
   "metadata": {},
   "source": [
    "git clone을 한 상태에서 tutorial code를 이용하신다면 아래의 코드를 실행하여 path를 추가하십시요"
   ]
  },
  {
   "cell_type": "code",
   "execution_count": 2,
   "metadata": {
    "collapsed": true
   },
   "outputs": [],
   "source": [
    "import sys\n",
    "sys.path.append('../')"
   ]
  },
  {
   "cell_type": "code",
   "execution_count": 3,
   "metadata": {
    "collapsed": false
   },
   "outputs": [
    {
     "data": {
      "text/plain": [
       "{'Josa': {'는', '은'},\n",
       " 'Modifier': {'우리', '이', '이번'},\n",
       " 'Noun': {'것', '번것', '아이', '아이오아이', '행사'}}"
      ]
     },
     "execution_count": 3,
     "metadata": {},
     "output_type": "execute_result"
    }
   ],
   "source": [
    "from ckonlpy.tag import Twitter\n",
    "\n",
    "twitter = Twitter()\n",
    "\n",
    "twitter.add_dictionary('이', 'Modifier')\n",
    "twitter.add_dictionary('우리', 'Modifier')\n",
    "twitter.add_dictionary('이번', 'Modifier')\n",
    "twitter.add_dictionary('아이오아이', 'Noun')\n",
    "twitter.add_dictionary('행사', 'Noun')\n",
    "twitter.add_dictionary('아이', 'Noun')\n",
    "twitter.add_dictionary('번것', 'Noun')\n",
    "twitter.add_dictionary('것', 'Noun')\n",
    "twitter.add_dictionary('은', 'Josa')\n",
    "twitter.add_dictionary('는', 'Josa')\n",
    "twitter._dictionary._pos2words"
   ]
  },
  {
   "cell_type": "markdown",
   "metadata": {},
   "source": [
    "사전을 추가한 뒤, '아이오아이'가 명사로 제대로 인식됨을 확인할 수 있습니다. "
   ]
  },
  {
   "cell_type": "code",
   "execution_count": 4,
   "metadata": {
    "collapsed": false
   },
   "outputs": [
    {
     "data": {
      "text/plain": [
       "[('우리', 'Modifier'),\n",
       " ('아이오아이', 'Noun'),\n",
       " ('는', 'Josa'),\n",
       " ('정말', 'Noun'),\n",
       " ('이뻐', 'Adjective'),\n",
       " ('요', 'Eomi')]"
      ]
     },
     "execution_count": 4,
     "metadata": {},
     "output_type": "execute_result"
    }
   ],
   "source": [
    "twitter.pos('우리아이오아이는 정말 이뻐요')"
   ]
  },
  {
   "cell_type": "code",
   "execution_count": 5,
   "metadata": {
    "collapsed": false
   },
   "outputs": [
    {
     "data": {
      "text/plain": [
       "[('아이오아이', 'Noun'), ('이뻐', 'Adjective'), ('요', 'Eomi')]"
      ]
     },
     "execution_count": 5,
     "metadata": {},
     "output_type": "execute_result"
    }
   ],
   "source": [
    "twitter.pos('아이오아이 이뻐요')"
   ]
  },
  {
   "cell_type": "markdown",
   "metadata": {},
   "source": [
    "사전을 추가할 때, 하나의 품사에 대하여 동시에 여러 개의 단어셋을 입력할 수도 있습니다.\n",
    "\n",
    "Twitter.add_dictionary(words, tag)는 한번에 list of str 형식의 여러 개의 단어들을 입력할 수도 있습니다. "
   ]
  },
  {
   "cell_type": "code",
   "execution_count": 6,
   "metadata": {
    "collapsed": false
   },
   "outputs": [
    {
     "data": {
      "text/plain": [
       "{'Josa': {'는', '은'},\n",
       " 'Modifier': {'우리', '이', '이번'},\n",
       " 'Noun': {'tt', '것', '꺼', '번것', '아이', '아이오아이', '우리', '트둥이', '트와이스', '행사'}}"
      ]
     },
     "execution_count": 6,
     "metadata": {},
     "output_type": "execute_result"
    }
   ],
   "source": [
    "twitter.add_dictionary(['트와이스', 'tt', '트둥이', '꺼', '우리'], 'Noun')\n",
    "twitter._dictionary._pos2words"
   ]
  },
  {
   "cell_type": "code",
   "execution_count": 7,
   "metadata": {
    "collapsed": false
   },
   "outputs": [
    {
     "data": {
      "text/plain": [
       "[('트와이스', 'Noun'),\n",
       " ('tt', 'Noun'),\n",
       " ('는', 'Josa'),\n",
       " ('좋', 'Adjective'),\n",
       " ('아요', 'Eomi')]"
      ]
     },
     "execution_count": 7,
     "metadata": {},
     "output_type": "execute_result"
    }
   ],
   "source": [
    "twitter.pos('트와이스tt는 좋아요')"
   ]
  },
  {
   "cell_type": "markdown",
   "metadata": {},
   "source": [
    "트위터 분석기의 조사사전을 이용할 수도 있습니다. Twitter()를 만들 때 argument를 넣을 수 있습니다. "
   ]
  },
  {
   "cell_type": "code",
   "execution_count": 8,
   "metadata": {
    "collapsed": false
   },
   "outputs": [
    {
     "data": {
      "text/plain": [
       "513"
      ]
     },
     "execution_count": 8,
     "metadata": {},
     "output_type": "execute_result"
    }
   ],
   "source": [
    "twitter1 = Twitter(load_default_dictionary=True)\n",
    "len(twitter1._dictionary._pos2words['Josa'])"
   ]
  },
  {
   "cell_type": "markdown",
   "metadata": {},
   "source": [
    "하지만 아직 '우리트둥이꺼tt는' 이라는 어절이 제대로 인식되지 않습니다. 그 이유는 templates에 'Noun + Noun + Josa'가 없었기 때문입니다. 이 경우에는 KoNLPy에 해당 어절을 분석하라고 보냅니다. 하지만 '트둥이'라는 단어를 알지 못해서 제대로 인식되지 않습니다. "
   ]
  },
  {
   "cell_type": "code",
   "execution_count": 9,
   "metadata": {
    "collapsed": false
   },
   "outputs": [
    {
     "data": {
      "text/plain": [
       "[('우', 'Adverb'),\n",
       " ('리트', 'Noun'),\n",
       " ('둥이', 'Noun'),\n",
       " ('꺼', 'Suffix'),\n",
       " ('tt', 'Alpha'),\n",
       " ('는', 'Verb'),\n",
       " ('좋', 'Adjective'),\n",
       " ('아요', 'Eomi')]"
      ]
     },
     "execution_count": 9,
     "metadata": {},
     "output_type": "execute_result"
    }
   ],
   "source": [
    "twitter.pos('우리트둥이꺼tt는 좋아요')"
   ]
  },
  {
   "cell_type": "markdown",
   "metadata": {},
   "source": [
    "현재는 customized_tagger로 탬플릿 기반 토크나이저를 이용하고 있습니다. 어떤 탬플릿이 들어있는지 확인하기 위해서는 아래 부분을 확인하면 됩니다. \n",
    "\n",
    "    twitter._customized_tagger.templates\n",
    "    \n",
    "현재는 다음의 탬플릿이 입력되어 있습니다. "
   ]
  },
  {
   "cell_type": "code",
   "execution_count": 10,
   "metadata": {
    "collapsed": false
   },
   "outputs": [
    {
     "data": {
      "text/plain": [
       "[('Noun',),\n",
       " ('Noun', 'Noun'),\n",
       " ('Noun', 'Josa'),\n",
       " ('Noun', 'Josa', 'Noun'),\n",
       " ('Noun', 'Noun', 'Josa'),\n",
       " ('Modifier', 'Noun'),\n",
       " ('Modifier', 'Noun', 'Noun'),\n",
       " ('Modifier', 'Noun', 'Josa'),\n",
       " ('Modifier', 'Noun', 'Noun', 'Josa')]"
      ]
     },
     "execution_count": 10,
     "metadata": {},
     "output_type": "execute_result"
    }
   ],
   "source": [
    "twitter._customized_tagger.templates"
   ]
  },
  {
   "cell_type": "markdown",
   "metadata": {},
   "source": [
    "기본 탬플릿은 customized_konlpy/data/templates/twitter_templates0 에 저장되어 있습니다. text 형식의 파일이며, 띄어쓰기로 아래와 같은 기본 템플릿을 지정하면 됩니다. "
   ]
  },
  {
   "cell_type": "code",
   "execution_count": 11,
   "metadata": {
    "collapsed": false
   },
   "outputs": [
    {
     "name": "stdout",
     "output_type": "stream",
     "text": [
      "Noun\r\n",
      "Noun Noun\r\n",
      "Noun Josa\r\n",
      "Noun Josa Noun\r\n",
      "Noun Noun Josa\r\n",
      "Modifier Noun\r\n",
      "Modifier Noun Noun\r\n",
      "Modifier Noun Josa\r\n",
      "Modifier Noun Noun Josa"
     ]
    }
   ],
   "source": [
    "cat ../ckonlpy/data/templates/twitter_templates0"
   ]
  },
  {
   "cell_type": "markdown",
   "metadata": {},
   "source": [
    "작업 중 탬플릿을 추가하고 싶다면, 탬플릿은 하나 단위로 tuple of str의 형식으로 입력할 수 있습니다. \\_customized_tagger.add_a_templated()은 중복되는 탬플릿이 아닌지 확인한 다음 탬플릿을 추가하는 함수입니다. "
   ]
  },
  {
   "cell_type": "code",
   "execution_count": 12,
   "metadata": {
    "collapsed": false
   },
   "outputs": [
    {
     "data": {
      "text/plain": [
       "[('Noun',),\n",
       " ('Noun', 'Noun'),\n",
       " ('Noun', 'Josa'),\n",
       " ('Noun', 'Josa', 'Noun'),\n",
       " ('Noun', 'Noun', 'Josa'),\n",
       " ('Modifier', 'Noun'),\n",
       " ('Modifier', 'Noun', 'Noun'),\n",
       " ('Modifier', 'Noun', 'Josa'),\n",
       " ('Modifier', 'Noun', 'Noun', 'Josa'),\n",
       " ('Modifier', 'Noun', 'Noun', 'Noun', 'Josa')]"
      ]
     },
     "execution_count": 12,
     "metadata": {},
     "output_type": "execute_result"
    }
   ],
   "source": [
    "twitter._customized_tagger.add_a_template(('Modifier', 'Noun', 'Noun', 'Noun', 'Josa'))\n",
    "twitter._customized_tagger.templates"
   ]
  },
  {
   "cell_type": "markdown",
   "metadata": {},
   "source": [
    "('Noun', 'Noun', 'Josa')가 입력되었고, '트와이스', 'tt'가 명사인지 알고 있기 때문에 아래 문장은 제대로 인식이 됩니다. "
   ]
  },
  {
   "cell_type": "code",
   "execution_count": 13,
   "metadata": {
    "collapsed": false
   },
   "outputs": [
    {
     "data": {
      "text/plain": [
       "[('우리', 'Modifier'),\n",
       " ('트둥이', 'Noun'),\n",
       " ('꺼', 'Noun'),\n",
       " ('tt', 'Noun'),\n",
       " ('는', 'Josa'),\n",
       " ('좋', 'Adjective'),\n",
       " ('아요', 'Eomi')]"
      ]
     },
     "execution_count": 13,
     "metadata": {},
     "output_type": "execute_result"
    }
   ],
   "source": [
    "twitter.pos('우리트둥이꺼tt는 좋아요')"
   ]
  },
  {
   "cell_type": "markdown",
   "metadata": {},
   "source": [
    "사전을 추가할 때, 트위터 한국어 분석기에 존재하지 않는 태그가 들어가는 것을 방지하기 위해 tag의 값을 확인하는 부분이 구현되어 있습니다. \n",
    "\n",
    "    twitter.tagset\n",
    "    \n",
    "    >>> {'Adjective': '형용사',\n",
    "         'Adverb': '부사',\n",
    "         'Alpha': '알파벳',\n",
    "         'Conjunction': '접속사',\n",
    "         'Determiner': '관형사',\n",
    "         'Eomi': '어미',\n",
    "         'Exclamation': '감탄사',\n",
    "         'Foreign': '외국어, 한자 및 기타기호',\n",
    "         'Hashtag': '트위터 해쉬태그',\n",
    "         'Josa': '조사',\n",
    "         'KoreanParticle': '(ex: ㅋㅋ)',\n",
    "         'Modifier': '관형사',\n",
    "         'Noun': '명사',\n",
    "         'Number': '숫자',\n",
    "         'PreEomi': '선어말어미',\n",
    "         'Punctuation': '구두점',\n",
    "         'ScreenName': '트위터 아이디',\n",
    "         'Suffix': '접미사',\n",
    "         'Unknown': '미등록어',\n",
    "         'Verb': '동사'}\n",
    "         \n",
    "twitter.tagset에 등록되어 있지 않는 품사에 대해서는 ValueError를 raise 합니다. "
   ]
  },
  {
   "cell_type": "code",
   "execution_count": 14,
   "metadata": {
    "collapsed": false
   },
   "outputs": [
    {
     "ename": "ValueError",
     "evalue": "Name is not available tag",
     "output_type": "error",
     "traceback": [
      "\u001b[1;31m---------------------------------------------------------------------------\u001b[0m",
      "\u001b[1;31mValueError\u001b[0m                                Traceback (most recent call last)",
      "\u001b[1;32m<ipython-input-14-849546ef1046>\u001b[0m in \u001b[0;36m<module>\u001b[1;34m()\u001b[0m\n\u001b[1;32m----> 1\u001b[1;33m \u001b[0mtwitter\u001b[0m\u001b[1;33m.\u001b[0m\u001b[0madd_dictionary\u001b[0m\u001b[1;33m(\u001b[0m\u001b[1;34m'lovit'\u001b[0m\u001b[1;33m,\u001b[0m \u001b[1;34m'Name'\u001b[0m\u001b[1;33m)\u001b[0m\u001b[1;33m\u001b[0m\u001b[0m\n\u001b[0m",
      "\u001b[1;32m/mnt/lovit/git/customized_konlpy/ckonlpy/tag/_twitter.py\u001b[0m in \u001b[0;36madd_dictionary\u001b[1;34m(self, words, tag, force)\u001b[0m\n\u001b[0;32m     53\u001b[0m     \u001b[1;32mdef\u001b[0m \u001b[0madd_dictionary\u001b[0m\u001b[1;33m(\u001b[0m\u001b[0mself\u001b[0m\u001b[1;33m,\u001b[0m \u001b[0mwords\u001b[0m\u001b[1;33m,\u001b[0m \u001b[0mtag\u001b[0m\u001b[1;33m,\u001b[0m \u001b[0mforce\u001b[0m\u001b[1;33m=\u001b[0m\u001b[1;32mFalse\u001b[0m\u001b[1;33m)\u001b[0m\u001b[1;33m:\u001b[0m\u001b[1;33m\u001b[0m\u001b[0m\n\u001b[0;32m     54\u001b[0m         \u001b[1;32mif\u001b[0m \u001b[1;33m(\u001b[0m\u001b[1;32mnot\u001b[0m \u001b[0mforce\u001b[0m\u001b[1;33m)\u001b[0m \u001b[1;32mand\u001b[0m \u001b[1;33m(\u001b[0m\u001b[1;32mnot\u001b[0m \u001b[1;33m(\u001b[0m\u001b[0mtag\u001b[0m \u001b[1;32min\u001b[0m \u001b[0mself\u001b[0m\u001b[1;33m.\u001b[0m\u001b[0mtagset\u001b[0m\u001b[1;33m)\u001b[0m\u001b[1;33m)\u001b[0m\u001b[1;33m:\u001b[0m\u001b[1;33m\u001b[0m\u001b[0m\n\u001b[1;32m---> 55\u001b[1;33m             \u001b[1;32mraise\u001b[0m \u001b[0mValueError\u001b[0m\u001b[1;33m(\u001b[0m\u001b[1;34m'%s is not available tag'\u001b[0m \u001b[1;33m%\u001b[0m \u001b[0mtag\u001b[0m\u001b[1;33m)\u001b[0m\u001b[1;33m\u001b[0m\u001b[0m\n\u001b[0m\u001b[0;32m     56\u001b[0m         \u001b[0mself\u001b[0m\u001b[1;33m.\u001b[0m\u001b[0m_dictionary\u001b[0m\u001b[1;33m.\u001b[0m\u001b[0madd_dictionary\u001b[0m\u001b[1;33m(\u001b[0m\u001b[0mwords\u001b[0m\u001b[1;33m,\u001b[0m \u001b[0mtag\u001b[0m\u001b[1;33m)\u001b[0m\u001b[1;33m\u001b[0m\u001b[0m\n\u001b[0;32m     57\u001b[0m \u001b[1;33m\u001b[0m\u001b[0m\n",
      "\u001b[1;31mValueError\u001b[0m: Name is not available tag"
     ]
    }
   ],
   "source": [
    "twitter.add_dictionary('lovit', 'Name')"
   ]
  },
  {
   "cell_type": "markdown",
   "metadata": {},
   "source": [
    "하지만 Twitter.add_dictionary(words, tag, force=True)로 단어를 사전에 입력하면 알려지지 않은 품사라 하더라도 입력할 수 있습니다. "
   ]
  },
  {
   "cell_type": "code",
   "execution_count": 15,
   "metadata": {
    "collapsed": false
   },
   "outputs": [
    {
     "data": {
      "text/plain": [
       "{'Josa': {'는', '은'},\n",
       " 'Modifier': {'우리', '이', '이번'},\n",
       " 'Name': {'lovit'},\n",
       " 'Noun': {'tt', '것', '꺼', '번것', '아이', '아이오아이', '우리', '트둥이', '트와이스', '행사'}}"
      ]
     },
     "execution_count": 15,
     "metadata": {},
     "output_type": "execute_result"
    }
   ],
   "source": [
    "twitter.add_dictionary('lovit', 'Name', force=True)\n",
    "twitter._dictionary._pos2words"
   ]
  },
  {
   "cell_type": "markdown",
   "metadata": {},
   "source": [
    "'Name'이라는 클래스 (더이상 품사가 아니므로)를 이용하는 탬플릿을 하나 입력한 뒤 pos에 입력하면 어절 'lovit은' customized_tagger에 의하여 처리가 되고, 사용자 사전에 알려지지 않은 어절인 '졸려'는 본래의 트위터 분석기에 의하여 처리가 됩니다. "
   ]
  },
  {
   "cell_type": "code",
   "execution_count": 16,
   "metadata": {
    "collapsed": false
   },
   "outputs": [
    {
     "name": "stdout",
     "output_type": "stream",
     "text": [
      "[('Noun',), ('Noun', 'Noun'), ('Noun', 'Josa'), ('Noun', 'Josa', 'Noun'), ('Noun', 'Noun', 'Josa'), ('Modifier', 'Noun'), ('Modifier', 'Noun', 'Noun'), ('Modifier', 'Noun', 'Josa'), ('Modifier', 'Noun', 'Noun', 'Josa'), ('Modifier', 'Noun', 'Noun', 'Noun', 'Josa'), ('Name', 'Josa')]\n"
     ]
    },
    {
     "data": {
      "text/plain": [
       "[('lovit', 'Name'),\n",
       " ('은', 'Josa'),\n",
       " ('이름', 'Noun'),\n",
       " ('입니', 'Adjective'),\n",
       " ('다', 'Eomi'),\n",
       " ('.', 'Punctuation')]"
      ]
     },
     "execution_count": 16,
     "metadata": {},
     "output_type": "execute_result"
    }
   ],
   "source": [
    "twitter._customized_tagger.add_a_template(('Name', 'Josa'))\n",
    "print(twitter._customized_tagger.templates)\n",
    "twitter.pos('lovit은 이름입니다.')"
   ]
  },
  {
   "cell_type": "markdown",
   "metadata": {},
   "source": [
    "Templates를 이용하여도 후보가 여러 개 나올 수 있습니다. 여러 개 후보 중에서 best 를 선택하는 함수를 직접 디자인 할 수 도 있습니다. 이처럼 몇 개의 점수 기준을 만들고, 각 기준의 weight를 부여하는 방식은 트위터 분석기에서 이용하는 방식인데, 직관적이고 튜닝 가능해서 매우 좋은 방식이라 생각합니다. "
   ]
  },
  {
   "cell_type": "code",
   "execution_count": 17,
   "metadata": {
    "collapsed": false
   },
   "outputs": [
    {
     "name": "stdout",
     "output_type": "stream",
     "text": [
      "[('이', 'Noun'), ('것', 'Noun'), ('은', 'Josa'), ('테', 'Noun'), ('스트', 'Noun')]\n",
      "[('이것', 'Noun'), ('은', 'Josa'), ('테', 'Noun'), ('스트', 'Noun')]\n",
      "[('이것', 'Noun'), ('은', 'Josa'), ('테스트', 'Noun')]\n",
      "best: [('이것', 'Noun'), ('은', 'Josa'), ('테스트', 'Noun')]\n"
     ]
    }
   ],
   "source": [
    "score_weights = {\n",
    "    'num_nouns': -0.1,\n",
    "    'num_words': -0.2,\n",
    "    'no_noun': -1\n",
    "}\n",
    "\n",
    "def my_score(candidate):\n",
    "    num_nouns = len([w for w,t in candidate if t == 'Noun'])\n",
    "    num_words = len(candidate)\n",
    "    no_noun = 1 if num_nouns == 0 else 0\n",
    "    \n",
    "    score = (num_nouns * score_weights['num_nouns'] \n",
    "             + num_words * score_weights['num_words']\n",
    "             + no_noun * score_weights['no_noun'])\n",
    "    return score\n",
    "\n",
    "twitter.set_selector(score_weights, my_score)"
   ]
  },
  {
   "cell_type": "code",
   "execution_count": null,
   "metadata": {
    "collapsed": true
   },
   "outputs": [],
   "source": []
  }
 ],
 "metadata": {
  "kernelspec": {
   "display_name": "Python 3",
   "language": "python",
   "name": "python3"
  },
  "language_info": {
   "codemirror_mode": {
    "name": "ipython",
    "version": 3
   },
   "file_extension": ".py",
   "mimetype": "text/x-python",
   "name": "python",
   "nbconvert_exporter": "python",
   "pygments_lexer": "ipython3",
   "version": "3.5.2"
  }
 },
 "nbformat": 4,
 "nbformat_minor": 0
}
